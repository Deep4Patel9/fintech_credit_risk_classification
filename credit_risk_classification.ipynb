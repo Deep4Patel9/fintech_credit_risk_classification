{
 "cells": [
  {
   "cell_type": "markdown",
   "id": "def79dc8-ca9b-4428-bba8-25be168d29db",
   "metadata": {},
   "source": [
    "# Credit Risk Classification"
   ]
  },
  {
   "cell_type": "code",
   "execution_count": 30,
   "id": "efafbdb4-913d-4cac-bd89-faa3c7ec8d61",
   "metadata": {},
   "outputs": [],
   "source": [
    "# Import the modules\n",
    "import numpy as np\n",
    "import pandas as pd\n",
    "from pathlib import Path\n",
    "from sklearn.preprocessing import StandardScaler\n",
    "from sklearn.metrics import balanced_accuracy_score,confusion_matrix\n",
    "from sklearn.model_selection import train_test_split\n",
    "from sklearn.linear_model import LogisticRegression\n",
    "from imblearn.metrics import classification_report_imbalanced\n",
    "from imblearn.over_sampling import RandomOverSampler\n",
    "\n",
    "import warnings\n",
    "warnings.filterwarnings('ignore')"
   ]
  },
  {
   "cell_type": "markdown",
   "id": "43a7f3f4-413a-4c7c-b193-b96843b8be7c",
   "metadata": {},
   "source": [
    "### Create Training and Testing Sets for Data"
   ]
  },
  {
   "cell_type": "code",
   "execution_count": 2,
   "id": "0cc83634-4043-450f-b711-ca86cee7a851",
   "metadata": {},
   "outputs": [
    {
     "data": {
      "text/html": [
       "<div>\n",
       "<style scoped>\n",
       "    .dataframe tbody tr th:only-of-type {\n",
       "        vertical-align: middle;\n",
       "    }\n",
       "\n",
       "    .dataframe tbody tr th {\n",
       "        vertical-align: top;\n",
       "    }\n",
       "\n",
       "    .dataframe thead th {\n",
       "        text-align: right;\n",
       "    }\n",
       "</style>\n",
       "<table border=\"1\" class=\"dataframe\">\n",
       "  <thead>\n",
       "    <tr style=\"text-align: right;\">\n",
       "      <th></th>\n",
       "      <th>loan_size</th>\n",
       "      <th>interest_rate</th>\n",
       "      <th>borrower_income</th>\n",
       "      <th>debt_to_income</th>\n",
       "      <th>num_of_accounts</th>\n",
       "      <th>derogatory_marks</th>\n",
       "      <th>total_debt</th>\n",
       "      <th>loan_status</th>\n",
       "    </tr>\n",
       "  </thead>\n",
       "  <tbody>\n",
       "    <tr>\n",
       "      <th>0</th>\n",
       "      <td>10700.0</td>\n",
       "      <td>7.672</td>\n",
       "      <td>52800</td>\n",
       "      <td>0.431818</td>\n",
       "      <td>5</td>\n",
       "      <td>1</td>\n",
       "      <td>22800</td>\n",
       "      <td>0</td>\n",
       "    </tr>\n",
       "    <tr>\n",
       "      <th>1</th>\n",
       "      <td>8400.0</td>\n",
       "      <td>6.692</td>\n",
       "      <td>43600</td>\n",
       "      <td>0.311927</td>\n",
       "      <td>3</td>\n",
       "      <td>0</td>\n",
       "      <td>13600</td>\n",
       "      <td>0</td>\n",
       "    </tr>\n",
       "    <tr>\n",
       "      <th>2</th>\n",
       "      <td>9000.0</td>\n",
       "      <td>6.963</td>\n",
       "      <td>46100</td>\n",
       "      <td>0.349241</td>\n",
       "      <td>3</td>\n",
       "      <td>0</td>\n",
       "      <td>16100</td>\n",
       "      <td>0</td>\n",
       "    </tr>\n",
       "    <tr>\n",
       "      <th>3</th>\n",
       "      <td>10700.0</td>\n",
       "      <td>7.664</td>\n",
       "      <td>52700</td>\n",
       "      <td>0.430740</td>\n",
       "      <td>5</td>\n",
       "      <td>1</td>\n",
       "      <td>22700</td>\n",
       "      <td>0</td>\n",
       "    </tr>\n",
       "    <tr>\n",
       "      <th>4</th>\n",
       "      <td>10800.0</td>\n",
       "      <td>7.698</td>\n",
       "      <td>53000</td>\n",
       "      <td>0.433962</td>\n",
       "      <td>5</td>\n",
       "      <td>1</td>\n",
       "      <td>23000</td>\n",
       "      <td>0</td>\n",
       "    </tr>\n",
       "  </tbody>\n",
       "</table>\n",
       "</div>"
      ],
      "text/plain": [
       "   loan_size  interest_rate  borrower_income  debt_to_income  num_of_accounts  \\\n",
       "0    10700.0          7.672            52800        0.431818                5   \n",
       "1     8400.0          6.692            43600        0.311927                3   \n",
       "2     9000.0          6.963            46100        0.349241                3   \n",
       "3    10700.0          7.664            52700        0.430740                5   \n",
       "4    10800.0          7.698            53000        0.433962                5   \n",
       "\n",
       "   derogatory_marks  total_debt  loan_status  \n",
       "0                 1       22800            0  \n",
       "1                 0       13600            0  \n",
       "2                 0       16100            0  \n",
       "3                 1       22700            0  \n",
       "4                 1       23000            0  "
      ]
     },
     "execution_count": 2,
     "metadata": {},
     "output_type": "execute_result"
    }
   ],
   "source": [
    "#Read lending_data.csv from Resources into pd Dataframe and review\n",
    "df = pd.read_csv(Path('Resources/lending_data.csv'))\n",
    "\n",
    "df.head()"
   ]
  },
  {
   "cell_type": "code",
   "execution_count": 4,
   "id": "69a3355a-d726-4a9d-8037-91cc888d82c6",
   "metadata": {},
   "outputs": [
    {
     "data": {
      "text/plain": [
       "0        0\n",
       "1        0\n",
       "2        0\n",
       "3        0\n",
       "4        0\n",
       "        ..\n",
       "77531    1\n",
       "77532    1\n",
       "77533    1\n",
       "77534    1\n",
       "77535    1\n",
       "Name: loan_status, Length: 77536, dtype: int64"
      ]
     },
     "metadata": {},
     "output_type": "display_data"
    },
    {
     "data": {
      "text/html": [
       "<div>\n",
       "<style scoped>\n",
       "    .dataframe tbody tr th:only-of-type {\n",
       "        vertical-align: middle;\n",
       "    }\n",
       "\n",
       "    .dataframe tbody tr th {\n",
       "        vertical-align: top;\n",
       "    }\n",
       "\n",
       "    .dataframe thead th {\n",
       "        text-align: right;\n",
       "    }\n",
       "</style>\n",
       "<table border=\"1\" class=\"dataframe\">\n",
       "  <thead>\n",
       "    <tr style=\"text-align: right;\">\n",
       "      <th></th>\n",
       "      <th>loan_size</th>\n",
       "      <th>interest_rate</th>\n",
       "      <th>borrower_income</th>\n",
       "      <th>debt_to_income</th>\n",
       "      <th>num_of_accounts</th>\n",
       "      <th>derogatory_marks</th>\n",
       "      <th>total_debt</th>\n",
       "    </tr>\n",
       "  </thead>\n",
       "  <tbody>\n",
       "    <tr>\n",
       "      <th>0</th>\n",
       "      <td>10700.0</td>\n",
       "      <td>7.672</td>\n",
       "      <td>52800</td>\n",
       "      <td>0.431818</td>\n",
       "      <td>5</td>\n",
       "      <td>1</td>\n",
       "      <td>22800</td>\n",
       "    </tr>\n",
       "    <tr>\n",
       "      <th>1</th>\n",
       "      <td>8400.0</td>\n",
       "      <td>6.692</td>\n",
       "      <td>43600</td>\n",
       "      <td>0.311927</td>\n",
       "      <td>3</td>\n",
       "      <td>0</td>\n",
       "      <td>13600</td>\n",
       "    </tr>\n",
       "    <tr>\n",
       "      <th>2</th>\n",
       "      <td>9000.0</td>\n",
       "      <td>6.963</td>\n",
       "      <td>46100</td>\n",
       "      <td>0.349241</td>\n",
       "      <td>3</td>\n",
       "      <td>0</td>\n",
       "      <td>16100</td>\n",
       "    </tr>\n",
       "    <tr>\n",
       "      <th>3</th>\n",
       "      <td>10700.0</td>\n",
       "      <td>7.664</td>\n",
       "      <td>52700</td>\n",
       "      <td>0.430740</td>\n",
       "      <td>5</td>\n",
       "      <td>1</td>\n",
       "      <td>22700</td>\n",
       "    </tr>\n",
       "    <tr>\n",
       "      <th>4</th>\n",
       "      <td>10800.0</td>\n",
       "      <td>7.698</td>\n",
       "      <td>53000</td>\n",
       "      <td>0.433962</td>\n",
       "      <td>5</td>\n",
       "      <td>1</td>\n",
       "      <td>23000</td>\n",
       "    </tr>\n",
       "    <tr>\n",
       "      <th>...</th>\n",
       "      <td>...</td>\n",
       "      <td>...</td>\n",
       "      <td>...</td>\n",
       "      <td>...</td>\n",
       "      <td>...</td>\n",
       "      <td>...</td>\n",
       "      <td>...</td>\n",
       "    </tr>\n",
       "    <tr>\n",
       "      <th>77531</th>\n",
       "      <td>19100.0</td>\n",
       "      <td>11.261</td>\n",
       "      <td>86600</td>\n",
       "      <td>0.653580</td>\n",
       "      <td>12</td>\n",
       "      <td>2</td>\n",
       "      <td>56600</td>\n",
       "    </tr>\n",
       "    <tr>\n",
       "      <th>77532</th>\n",
       "      <td>17700.0</td>\n",
       "      <td>10.662</td>\n",
       "      <td>80900</td>\n",
       "      <td>0.629172</td>\n",
       "      <td>11</td>\n",
       "      <td>2</td>\n",
       "      <td>50900</td>\n",
       "    </tr>\n",
       "    <tr>\n",
       "      <th>77533</th>\n",
       "      <td>17600.0</td>\n",
       "      <td>10.595</td>\n",
       "      <td>80300</td>\n",
       "      <td>0.626401</td>\n",
       "      <td>11</td>\n",
       "      <td>2</td>\n",
       "      <td>50300</td>\n",
       "    </tr>\n",
       "    <tr>\n",
       "      <th>77534</th>\n",
       "      <td>16300.0</td>\n",
       "      <td>10.068</td>\n",
       "      <td>75300</td>\n",
       "      <td>0.601594</td>\n",
       "      <td>10</td>\n",
       "      <td>2</td>\n",
       "      <td>45300</td>\n",
       "    </tr>\n",
       "    <tr>\n",
       "      <th>77535</th>\n",
       "      <td>15600.0</td>\n",
       "      <td>9.742</td>\n",
       "      <td>72300</td>\n",
       "      <td>0.585062</td>\n",
       "      <td>9</td>\n",
       "      <td>2</td>\n",
       "      <td>42300</td>\n",
       "    </tr>\n",
       "  </tbody>\n",
       "</table>\n",
       "<p>77536 rows × 7 columns</p>\n",
       "</div>"
      ],
      "text/plain": [
       "       loan_size  interest_rate  borrower_income  debt_to_income  \\\n",
       "0        10700.0          7.672            52800        0.431818   \n",
       "1         8400.0          6.692            43600        0.311927   \n",
       "2         9000.0          6.963            46100        0.349241   \n",
       "3        10700.0          7.664            52700        0.430740   \n",
       "4        10800.0          7.698            53000        0.433962   \n",
       "...          ...            ...              ...             ...   \n",
       "77531    19100.0         11.261            86600        0.653580   \n",
       "77532    17700.0         10.662            80900        0.629172   \n",
       "77533    17600.0         10.595            80300        0.626401   \n",
       "77534    16300.0         10.068            75300        0.601594   \n",
       "77535    15600.0          9.742            72300        0.585062   \n",
       "\n",
       "       num_of_accounts  derogatory_marks  total_debt  \n",
       "0                    5                 1       22800  \n",
       "1                    3                 0       13600  \n",
       "2                    3                 0       16100  \n",
       "3                    5                 1       22700  \n",
       "4                    5                 1       23000  \n",
       "...                ...               ...         ...  \n",
       "77531               12                 2       56600  \n",
       "77532               11                 2       50900  \n",
       "77533               11                 2       50300  \n",
       "77534               10                 2       45300  \n",
       "77535                9                 2       42300  \n",
       "\n",
       "[77536 rows x 7 columns]"
      ]
     },
     "metadata": {},
     "output_type": "display_data"
    }
   ],
   "source": [
    "#Set y equal to the loan_status column and set X equal to all other features.\n",
    "y = df['loan_status']\n",
    "\n",
    "X = df.drop(columns='loan_status')\n",
    "\n",
    "display(y)\n",
    "display(X)"
   ]
  },
  {
   "cell_type": "code",
   "execution_count": 5,
   "id": "ff68f836-9d87-4feb-9e7d-b1e9a4d3d8fd",
   "metadata": {},
   "outputs": [
    {
     "data": {
      "text/plain": [
       "0    75036\n",
       "1     2500\n",
       "Name: loan_status, dtype: int64"
      ]
     },
     "execution_count": 5,
     "metadata": {},
     "output_type": "execute_result"
    }
   ],
   "source": [
    "#Check the y values 0 is healthy loan and 1 is a loan with a high risk for defaulting\n",
    "y.value_counts()"
   ]
  },
  {
   "cell_type": "code",
   "execution_count": 11,
   "id": "942a3bcb-769d-4859-8130-2eb4d4b384ab",
   "metadata": {},
   "outputs": [],
   "source": [
    "#split data into training and testing datasets\n",
    "X_train, X_test, y_train, y_test = train_test_split(X, y, random_state=1)"
   ]
  },
  {
   "cell_type": "code",
   "execution_count": 32,
   "id": "0ff42976-74d0-40be-94e5-f47cc4770611",
   "metadata": {},
   "outputs": [],
   "source": [
    "#Initiate and fit scale data using StandardScaler\n",
    "scaler = StandardScaler()\n",
    "scaler.fit(X_train)\n",
    "X_train_scaled = scaler.transform(X_train)\n",
    "X_test_scaled = scaler.transform(X_test)\n"
   ]
  },
  {
   "cell_type": "markdown",
   "id": "767929da-5b2e-4f1d-ae76-b4a2bbaebeac",
   "metadata": {},
   "source": [
    "### Create Logisitic Regression Model"
   ]
  },
  {
   "cell_type": "code",
   "execution_count": 33,
   "id": "d4cc9bb4-cf9f-46a2-b3b4-6d4733cdb488",
   "metadata": {},
   "outputs": [],
   "source": [
    "#initiate and fit logistic regression model with X_train, y_train, then predict with X_test_scaled\n",
    "logistic_regression = LogisticRegression(random_state=1)\n",
    "\n",
    "logistic_regression.fit(X_train_scaled, y_train)\n",
    "\n",
    "y_pred = logistic_regression.predict(X_test_scaled)"
   ]
  },
  {
   "cell_type": "code",
   "execution_count": 34,
   "id": "4161c373-5f52-412a-b18d-9ffda056dd57",
   "metadata": {},
   "outputs": [
    {
     "name": "stdout",
     "output_type": "stream",
     "text": [
      "Accuracy Score = 0.989\n",
      "Confusion Matrix = \n",
      "[[18652   113]\n",
      " [   10   609]]\n",
      "Classification Report = \n",
      "                    pre       rec       spe        f1       geo       iba       sup\n",
      "\n",
      "          0       1.00      0.99      0.98      1.00      0.99      0.98     18765\n",
      "          1       0.84      0.98      0.99      0.91      0.99      0.98       619\n",
      "\n",
      "avg / total       0.99      0.99      0.98      0.99      0.99      0.98     19384\n",
      "\n"
     ]
    }
   ],
   "source": [
    "#evaluate the model using accuracy score, confusion matrix, and classification report\n",
    "print(f'Accuracy Score = {balanced_accuracy_score(y_test, y_pred):.3f}')\n",
    "print(f'Confusion Matrix = {chr(10)}{confusion_matrix(y_test, y_pred)}')\n",
    "print(f'Classification Report = {chr(10)} {classification_report_imbalanced(y_test, y_pred)}')"
   ]
  },
  {
   "cell_type": "markdown",
   "id": "a82d2147-3ac9-4805-9981-455faabee202",
   "metadata": {},
   "source": [
    "**Question:** How well does the logistic regression model predict both the `0` (healthy loan) and `1` (high-risk loan) labels?\n",
    "\n",
    "**Answer:** The Precision with which it guesses 0 is 100%(although 10 high-risk loans were predicted as healthy loans) but the recall is 99%. We can see in the confusion matrix that 113 loans were falsely predicted as high-risk loans(1), while 1 is guessed with 84% precision and has a recall of 98%. We can see that some of the high-risk loans have been misidentified due to a lack of data. "
   ]
  },
  {
   "cell_type": "markdown",
   "id": "ea9c257c-f40f-4f4a-bf25-f229d4a6f8fa",
   "metadata": {},
   "source": [
    "### Logisitic Regression with Resampled Training Data"
   ]
  },
  {
   "cell_type": "code",
   "execution_count": 35,
   "id": "0f75486c-19e4-450a-ade7-e35227b1525a",
   "metadata": {},
   "outputs": [],
   "source": [
    "#instatiate and fit original training data to RandomOverSampler\n",
    "rov = RandomOverSampler(random_state=1)\n",
    "\n",
    "X_train_rov, y_train_rov = rov.fit_resample(X_train_scaled,y_train)"
   ]
  },
  {
   "cell_type": "code",
   "execution_count": 36,
   "id": "148b8271-5a33-49f8-8cb7-435e98b53b71",
   "metadata": {},
   "outputs": [
    {
     "data": {
      "text/plain": [
       "0    56271\n",
       "1    56271\n",
       "Name: loan_status, dtype: int64"
      ]
     },
     "execution_count": 36,
     "metadata": {},
     "output_type": "execute_result"
    }
   ],
   "source": [
    "#count values of resampled y\n",
    "y_train_rov.value_counts()"
   ]
  },
  {
   "cell_type": "code",
   "execution_count": 37,
   "id": "5188b0eb-e158-4a00-bd69-97bfa2d19459",
   "metadata": {},
   "outputs": [],
   "source": [
    "#initate, fit, predict using LogisticRegression with RandomOverSampled Data and then predict with X_test_scaled\n",
    "lg_rov = LogisticRegression(random_state=1)\n",
    "lg_rov.fit(X_train_rov, y_train_rov)\n",
    "y_pred_rov = lg_rov.predict(X_test_scaled)"
   ]
  },
  {
   "cell_type": "code",
   "execution_count": 38,
   "id": "5c5d5f51-e92c-44cc-aaa8-340a89b42b8a",
   "metadata": {},
   "outputs": [
    {
     "name": "stdout",
     "output_type": "stream",
     "text": [
      "Accuracy Score ROV = 0.993\n",
      "Confusion Matrix ROV = \n",
      "[[18640   125]\n",
      " [    4   615]]\n",
      "Classification Report ROV = \n",
      "                    pre       rec       spe        f1       geo       iba       sup\n",
      "\n",
      "          0       1.00      0.99      0.99      1.00      0.99      0.99     18765\n",
      "          1       0.83      0.99      0.99      0.91      0.99      0.99       619\n",
      "\n",
      "avg / total       0.99      0.99      0.99      0.99      0.99      0.99     19384\n",
      "\n"
     ]
    }
   ],
   "source": [
    "#evalute lg_rov model performace using accuracy_score, confusion_matrix, classification_report\n",
    "print(f'Accuracy Score ROV = {balanced_accuracy_score(y_test, y_pred_rov):.3f}')\n",
    "print(f'Confusion Matrix ROV = {chr(10)}{confusion_matrix(y_test, y_pred_rov)}')\n",
    "print(f'Classification Report ROV = {chr(10)} {classification_report_imbalanced(y_test, y_pred_rov)}')"
   ]
  },
  {
   "cell_type": "markdown",
   "id": "91b0c95c-a9f4-4ff5-b611-d1e7c7fe165f",
   "metadata": {},
   "source": [
    "**Question:** How well does the logistic regression model, fit with oversampled data, predict both the `0` (healthy loan) and `1` (high-risk loan) labels?\n",
    "\n",
    "**Answer:** The Precision with which it guesses 0 is 100%(although 4 high-risk loans were predicted as healthy loans) but the recall is 99%. We can see in the confusion matrix that 125 loans were falsely predicted as high-risk loans(1), while 1 is guessed with 83% precision and has a recall of 99%. We can see that althought the model still misidentified 4 loans as healthy it still let less through than the original model which let 10 loans pass. We can also see the the lg_rov model also identified more healthy loans as high-risk than the original model(125 compared to 113)."
   ]
  }
 ],
 "metadata": {
  "kernelspec": {
   "display_name": "dev",
   "language": "python",
   "name": "dev"
  },
  "language_info": {
   "codemirror_mode": {
    "name": "ipython",
    "version": 3
   },
   "file_extension": ".py",
   "mimetype": "text/x-python",
   "name": "python",
   "nbconvert_exporter": "python",
   "pygments_lexer": "ipython3",
   "version": "3.7.10"
  }
 },
 "nbformat": 4,
 "nbformat_minor": 5
}
